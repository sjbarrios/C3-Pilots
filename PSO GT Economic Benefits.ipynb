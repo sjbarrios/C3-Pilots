{
 "cells": [
  {
   "cell_type": "markdown",
   "id": "92aac628-da75-40e3-b1d1-d155fa7bf7be",
   "metadata": {},
   "source": [
    "# Modelo Económico Piloto Agrícola C3 AI Guatemala\n",
    "\n",
    "## Objetivo\n",
    "\n",
    "Estimar el **beneficio económico** del piloto de Optimización del Programa de Cosecha **(PSO)** de C3 AI, por medio del uso de KPI's de proceso que se impactan en el proceso de optimización.\n",
    "Este optimizador tiene alcance en los siguientes procesos agrícolas:\n",
    "- Cosecha Guatemala\n",
    "- Cosecha Nicaragua\n",
    "\n",
    "El objetivo del optimizador es recomendar los valores de variables de decisión (frente, finca, momento) en el proceso de cosecha que *maximicen la cantidad de azúcar recuperada por medio de un incremento en la pol y la pureza de la caña cosechada*.\n",
    "\n",
    "Dado que **el objetivo del optimizador es reemplazar las decisiones operativas humanas**, al momento de adoptarlo se pierde la línea base que sirve para comparar. Por este motivo se seleccionó un proceso de **back-testing** para explicar (durante un período en el que el optimizador no operó) *qué hubiera ocurrido si las recomendaciones del optimizador se hubieran seguido*, y por lo tanto la línea base se convierte en el desempeño real del proceso en el pasado. Este es un ejercicio teórico que se vale de los modelos predictivos que se desarrollaron para las funciones objetivo del optimizador. \n",
    "\n",
    "***La diferencia entre la línea base y el escenario hipotético del optimizador sirve para estimar el beneficio debido al uso del optimizador.***"
   ]
  },
  {
   "cell_type": "code",
   "execution_count": 1,
   "id": "04094f78-83a9-426d-8ba7-34d2286366d9",
   "metadata": {},
   "outputs": [],
   "source": [
    "import numpy as np\n",
    "import pandas as pd\n",
    "import matplotlib.pyplot as plt"
   ]
  },
  {
   "cell_type": "markdown",
   "id": "5b67ea79-c90c-45b4-b28e-2d0cadb80308",
   "metadata": {},
   "source": [
    "## Estimación de Beneficios Promedios\n",
    "\n",
    "#### KPI's de Caña de Azúcar\n",
    "Se utilizan los siguientes KPI's de *Caña de Azúcar* entregada a PSA:\n",
    "- Pol en Caña (%).\n",
    "- Pureza en Caña (%).\n",
    "- Caña bajo administración propia a moler (t caña).\n",
    "\n",
    "#### KPI's de Azúcar Industrial\n",
    "- Beneficio Marginal por Tonelada de Azúcar (USD / t azúcar).\n",
    "- Pol ponderado de Azúcar (%).\n",
    "\n",
    "#### KPI's de Transporte\n",
    "- Costo Promedio de Ferry Frente Manual (USD/km-frente).\n",
    "- Costo Promedio de Ferry Frente Mecánico (USD/km-frente).\n",
    "- Distancia Total de Ferrys Frentes Manuales (km)\n",
    "- Distancia Total de Ferrys Frentes Mecánicos (km)\n",
    "\n",
    "#### KPI's Piloto Agrícola PSA\n",
    "Los siguientes KPI's son impactados por el *piloto de optimización PSO*:\n",
    "- Pol en Caña Optimizado (%).\n",
    "- Pureza en Caña Optimizada (%).\n",
    "- Distancia Total de Ferrys Frentes Manuales Optimizados (km).\n",
    "- Distancia Total de Ferrys Frentes Mecánicos Optimizados (km)."
   ]
  },
  {
   "cell_type": "markdown",
   "id": "c635d118-7b9c-4b0a-ba4a-418db47bf3ae",
   "metadata": {},
   "source": [
    "## Estimación de Beneficios Promedio\n",
    "\n",
    "#### Estimación de Beneficios por Azúcar Adicional\n",
    "\n",
    "Para estimar la cantidad de azúcar adicional se utilizan las siguientes ecuaciones:\n",
    "\n",
    "- $\\Delta PolCaña = PolCaña_{Optimizador} - PolCaña$\n",
    "\n",
    "- $\\Delta PurezaCaña = PurezaCaña_{Optimizador} - PurezaCaña$\n",
    "\n",
    "- $\\Delta Azucar_{Pol} = \\Delta PolCaña * Caña_{Optimización}$\n",
    "\n",
    "- $RecuperaciónGlobal_{Estimada} = 1.0093*PurezaCaña_{Optimizador} - 0.0406$\n",
    "\n",
    "- $\\Delta Azucar_{Industrial} = \\Delta Azucar_{Pol} * RecuperaciónGlobal_{Estimada} / Pol_{Industrial}$\n",
    "\n",
    "- $Beneficio_{Azúcar} = BeneficioMarginal_{Azucar} * \\Delta AzucarIndustrial$\n",
    "\n",
    "Donde:\n",
    "\n",
    "$RecuperaciónGlobal_{Estimada}$ es una función que estima la recuperación global de la fábrica basado en pureza de caña."
   ]
  },
  {
   "cell_type": "markdown",
   "id": "bd4a46a8-3b41-49b0-8ee1-ec1c3723c5df",
   "metadata": {},
   "source": [
    "#### Estimación de Costos Adicionales por Distancias de Ferry de Frentes\n",
    "\n",
    "Dado que potencialmente se incurre en costos adicionales por mayor movimiento de frentes, se estima el diferencial de costos con las siguientes ecuaciones:\n",
    "\n",
    "- $\\Delta DistanciaFerryManuales = DistanciaFerryManuales_{Optimizado} - DistanciaFerryManuales$\n",
    "\n",
    "- $\\Delta DistanciaFerryMecanicos = DistanciaFerryMecanicos_{Optimizado} - DistanciaFerryMecanicos$\n",
    "\n",
    "- $\\Delta CostoTotalFerry = \\Delta DistanciaFerryManuales * CostoFerryManual + \\Delta DistanciaFerryMecanicos * CostoFerryMecanico$\n",
    "\n",
    "Donde:\n",
    "\n",
    "Los costos de Ferry (traslado de un frente de una finca a otra) son expresados en USD/km-frente."
   ]
  },
  {
   "cell_type": "code",
   "execution_count": 17,
   "id": "829ca03a-37bf-4b36-a2f8-8fd6e2afb5aa",
   "metadata": {},
   "outputs": [
    {
     "name": "stdout",
     "output_type": "stream",
     "text": [
      "Mejora en Pol en Caña: 0.30\n",
      "Recuperación Global Estimada: 81.14\n",
      "Azúcar Industrial Adicional (toneladas): 9883.16\n",
      "Costo Ferry Adicional (USD): 33946.59\n",
      "Beneficio Total Adicional (USD): 3070945.77\n"
     ]
    }
   ],
   "source": [
    "# KPI's\n",
    "\n",
    "# Caña\n",
    "Pol_Cana = 15.77\n",
    "Pol_Cana_opt = 16.07\n",
    "Pureza_Cana = 84.41\n",
    "Pureza_Cana_opt = 84.41\n",
    "Total_Cana_BA = 4043727\n",
    "\n",
    "# Transporte\n",
    "Dist_Ferry_Manuales = 45467\n",
    "Dist_Ferry_Manuales_opt = 55000\n",
    "Dist_Ferry_Mecanicos = 92860\n",
    "Dist_Ferry_Mecanicos_opt = 100000\n",
    "Costo_Ferry_Manual = 2.43\n",
    "Costo_Ferry_Mecanico = 1.51\n",
    "\n",
    "# Azúcar\n",
    "Pol_Az_Industrial = 99.59\n",
    "Ben_Marginal_Az = 314.16\n",
    "\n",
    "# Variables\n",
    "Delta_Pol_Cana = (Pol_Cana_opt - Pol_Cana)/100\n",
    "RG_Estimada = 1.0093*Pureza_Cana_opt/100 - 0.0406\n",
    "Delta_Az_Pol = Delta_Pol_Cana * Total_Cana_BA\n",
    "Delta_Az_Ind = Delta_Az_Pol * RG_Estimada / (Pol_Az_Industrial / 100)\n",
    "Delta_Ben_Az = Delta_Az_Ind * Ben_Marginal_Az\n",
    "\n",
    "Delta_Dist_Ferry_Manuales = Dist_Ferry_Manuales_opt - Dist_Ferry_Manuales\n",
    "Delta_Dist_Ferry_Mecanicos = Dist_Ferry_Mecanicos_opt - Dist_Ferry_Mecanicos\n",
    "Delta_Costo_Total_Ferry = Delta_Dist_Ferry_Manuales * Costo_Ferry_Manual + Delta_Dist_Ferry_Mecanicos * Costo_Ferry_Mecanico\n",
    "\n",
    "Ben_Total = Delta_Ben_Az - Delta_Costo_Total_Ferry\n",
    "\n",
    "print(\"Mejora en Pol en Caña: %.2f\" % (Delta_Pol_Cana*100))\n",
    "print(\"Recuperación Global Estimada: %.2f\" % (RG_Estimada*100))\n",
    "print(\"Azúcar Industrial Adicional (toneladas): %.2f\" % Delta_Az_Ind)\n",
    "print(\"Costo Ferry Adicional (USD): %.2f\" % Delta_Costo_Total_Ferry)\n",
    "print(\"Beneficio Total Adicional (USD): %.2f\" % Ben_Total)"
   ]
  },
  {
   "cell_type": "markdown",
   "id": "226c2ab3-ce8f-4473-8f5e-0f962aee1226",
   "metadata": {},
   "source": [
    "## Estimación de Beneficios Probabilísticos\n",
    "Se considera la naturaleza probabilística de los resultados del optimizador para simular la distribución resultante de los beneficios."
   ]
  },
  {
   "cell_type": "code",
   "execution_count": 18,
   "id": "3d3030ff-6ae4-4070-a6a4-ccc3e70ed894",
   "metadata": {},
   "outputs": [],
   "source": [
    "# Función de Beneficio Económico con Parámetros Teóricos de Mejora por el Optimizador\n",
    "def beneficio_economico(pol_cana_opt, pureza_cana_opt):\n",
    "\n",
    "    # Beneficio\n",
    "    Delta_Pol_Cana = (pol_cana_opt - Pol_Cana)/100\n",
    "    RG_Estimada = 1.0093*pureza_cana_opt/100 - 0.0406\n",
    "    Delta_Az_Pol = Delta_Pol_Cana * Total_Cana_BA\n",
    "    Delta_Az_Ind = Delta_Az_Pol * RG_Estimada / (Pol_Az_Industrial / 100)\n",
    "    Delta_Ben_Az = Delta_Az_Ind * Ben_Marginal_Az\n",
    "\n",
    "    Delta_Dist_Ferry_Manuales = Dist_Ferry_Manuales_opt - Dist_Ferry_Manuales\n",
    "    Delta_Dist_Ferry_Mecanicos = Dist_Ferry_Mecanicos_opt - Dist_Ferry_Mecanicos\n",
    "    Delta_Costo_Total_Ferry = Delta_Dist_Ferry_Manuales * Costo_Ferry_Manual + Delta_Dist_Ferry_Mecanicos * Costo_Ferry_Mecanico\n",
    "\n",
    "    Ben_Total = Delta_Ben_Az - Delta_Costo_Total_Ferry\n",
    "\n",
    "    return Ben_Total"
   ]
  },
  {
   "cell_type": "code",
   "execution_count": 19,
   "id": "2f731378-7185-4742-80a1-3ca0c587ed10",
   "metadata": {},
   "outputs": [
    {
     "data": {
      "text/plain": [
       "3070945.768676314"
      ]
     },
     "execution_count": 19,
     "metadata": {},
     "output_type": "execute_result"
    }
   ],
   "source": [
    "beneficio_economico(16.07,84.41)"
   ]
  },
  {
   "cell_type": "markdown",
   "id": "338af83b-b0a3-421b-91c6-e64da06c560b",
   "metadata": {},
   "source": [
    "### Simulación\n",
    "Se realiza una simulación de Monte Carlo dada la naturaleza probabilística del beneficio del optimizador."
   ]
  },
  {
   "cell_type": "code",
   "execution_count": 27,
   "id": "3cd87f70-403d-41d4-b35e-c7cc7c496e9d",
   "metadata": {},
   "outputs": [],
   "source": [
    "# parametros distribucion\n",
    "mu_pol, sigma_pol = 16.07 , 0.05\n",
    "mu_pureza, sigma_pureza = 84.41, 3.0\n",
    "\n",
    "# muestreo\n",
    "n_simulations = 1000\n",
    "l_xs = []\n",
    "l_ys = []\n",
    "\n",
    "# simulaciones\n",
    "for _ in range(n_simulations):\n",
    "    \n",
    "    # pol_cana se muestrea aleatoriamente con una distribución normal con media mu y desviación estándar sigma\n",
    "    x = np.random.normal(mu_pol, sigma_pol)\n",
    "    l_xs.append(x)\n",
    "    \n",
    "    # pureza_caña se muestrea aleatoriamente con una distribución normal con media mu y desviación estándar sigma\n",
    "    y = np.random.normal(mu_pureza, sigma_pureza)\n",
    "    l_ys.append(y)"
   ]
  },
  {
   "cell_type": "code",
   "execution_count": 28,
   "id": "2accb6b4-f8a3-4a7e-80a9-cf8608fdd6e1",
   "metadata": {},
   "outputs": [],
   "source": [
    "# evaluación\n",
    "l_bs = []\n",
    "for i in range(n_simulations):\n",
    "    \n",
    "    # beneficios económicos de la muestra\n",
    "    beneficios = beneficio_economico(l_xs[i],l_ys[i])\n",
    "    l_bs.append(beneficios)"
   ]
  },
  {
   "cell_type": "code",
   "execution_count": 29,
   "id": "e5813915-fb5d-401e-8679-728a50ebc05e",
   "metadata": {},
   "outputs": [
    {
     "data": {
      "text/html": [
       "<div>\n",
       "<style scoped>\n",
       "    .dataframe tbody tr th:only-of-type {\n",
       "        vertical-align: middle;\n",
       "    }\n",
       "\n",
       "    .dataframe tbody tr th {\n",
       "        vertical-align: top;\n",
       "    }\n",
       "\n",
       "    .dataframe thead th {\n",
       "        text-align: right;\n",
       "    }\n",
       "</style>\n",
       "<table border=\"1\" class=\"dataframe\">\n",
       "  <thead>\n",
       "    <tr style=\"text-align: right;\">\n",
       "      <th></th>\n",
       "      <th>Pol en Caña (%)</th>\n",
       "      <th>Pureza en Caña (%)</th>\n",
       "      <th>Beneficio Económico (USD)</th>\n",
       "    </tr>\n",
       "  </thead>\n",
       "  <tbody>\n",
       "    <tr>\n",
       "      <th>0</th>\n",
       "      <td>16.060217</td>\n",
       "      <td>84.762950</td>\n",
       "      <td>2.982884e+06</td>\n",
       "    </tr>\n",
       "    <tr>\n",
       "      <th>1</th>\n",
       "      <td>16.084357</td>\n",
       "      <td>87.824022</td>\n",
       "      <td>3.357712e+06</td>\n",
       "    </tr>\n",
       "    <tr>\n",
       "      <th>2</th>\n",
       "      <td>16.076766</td>\n",
       "      <td>82.639048</td>\n",
       "      <td>3.071028e+06</td>\n",
       "    </tr>\n",
       "    <tr>\n",
       "      <th>3</th>\n",
       "      <td>16.029975</td>\n",
       "      <td>84.792538</td>\n",
       "      <td>2.669506e+06</td>\n",
       "    </tr>\n",
       "    <tr>\n",
       "      <th>4</th>\n",
       "      <td>16.049833</td>\n",
       "      <td>83.126962</td>\n",
       "      <td>2.816004e+06</td>\n",
       "    </tr>\n",
       "    <tr>\n",
       "      <th>...</th>\n",
       "      <td>...</td>\n",
       "      <td>...</td>\n",
       "      <td>...</td>\n",
       "    </tr>\n",
       "    <tr>\n",
       "      <th>995</th>\n",
       "      <td>16.149597</td>\n",
       "      <td>83.134459</td>\n",
       "      <td>3.832407e+06</td>\n",
       "    </tr>\n",
       "    <tr>\n",
       "      <th>996</th>\n",
       "      <td>16.140830</td>\n",
       "      <td>83.076313</td>\n",
       "      <td>3.740339e+06</td>\n",
       "    </tr>\n",
       "    <tr>\n",
       "      <th>997</th>\n",
       "      <td>16.032564</td>\n",
       "      <td>91.197876</td>\n",
       "      <td>2.912957e+06</td>\n",
       "    </tr>\n",
       "    <tr>\n",
       "      <th>998</th>\n",
       "      <td>15.983742</td>\n",
       "      <td>87.070698</td>\n",
       "      <td>2.251427e+06</td>\n",
       "    </tr>\n",
       "    <tr>\n",
       "      <th>999</th>\n",
       "      <td>15.994579</td>\n",
       "      <td>84.332607</td>\n",
       "      <td>2.288130e+06</td>\n",
       "    </tr>\n",
       "  </tbody>\n",
       "</table>\n",
       "<p>1000 rows × 3 columns</p>\n",
       "</div>"
      ],
      "text/plain": [
       "     Pol en Caña (%)  Pureza en Caña (%)  Beneficio Económico (USD)\n",
       "0          16.060217           84.762950               2.982884e+06\n",
       "1          16.084357           87.824022               3.357712e+06\n",
       "2          16.076766           82.639048               3.071028e+06\n",
       "3          16.029975           84.792538               2.669506e+06\n",
       "4          16.049833           83.126962               2.816004e+06\n",
       "..               ...                 ...                        ...\n",
       "995        16.149597           83.134459               3.832407e+06\n",
       "996        16.140830           83.076313               3.740339e+06\n",
       "997        16.032564           91.197876               2.912957e+06\n",
       "998        15.983742           87.070698               2.251427e+06\n",
       "999        15.994579           84.332607               2.288130e+06\n",
       "\n",
       "[1000 rows x 3 columns]"
      ]
     },
     "execution_count": 29,
     "metadata": {},
     "output_type": "execute_result"
    }
   ],
   "source": [
    "# Dataframe de Simulaciones\n",
    "\n",
    "# listas de simulación\n",
    "inc_rend_azucar = l_xs\n",
    "inc_sacarosa_melaza = l_ys\n",
    "beneficio = l_bs\n",
    " \n",
    "# diccionario de listas\n",
    "dict = {'Pol en Caña (%)': inc_rend_azucar, 'Pureza en Caña (%)': inc_sacarosa_melaza, 'Beneficio Económico (USD)': beneficio} \n",
    "\n",
    "# dataframe final\n",
    "df = pd.DataFrame(dict)\n",
    "df"
   ]
  },
  {
   "cell_type": "code",
   "execution_count": 40,
   "id": "9554a121-def8-4159-b2bf-9329b1e9a997",
   "metadata": {},
   "outputs": [
    {
     "data": {
      "text/plain": [
       "array([[<Axes: title={'center': 'Pol en Caña (%)'}>,\n",
       "        <Axes: title={'center': 'Pureza en Caña (%)'}>],\n",
       "       [<Axes: title={'center': 'Beneficio Económico (USD)'}>, <Axes: >]],\n",
       "      dtype=object)"
      ]
     },
     "execution_count": 40,
     "metadata": {},
     "output_type": "execute_result"
    },
    {
     "data": {
      "image/png": "[encoded data removed]",
      "text/plain": [
       "<Figure size 1500x1000 with 4 Axes>"
      ]
     },
     "metadata": {},
     "output_type": "display_data"
    }
   ],
   "source": [
    "df.hist(figsize=(15,10))"
   ]
  },
  {
   "cell_type": "code",
   "execution_count": 41,
   "id": "d8c9ff5b-d861-4549-b4bf-d6fa2445619c",
   "metadata": {},
   "outputs": [
    {
     "data": {
      "text/plain": [
       "count    1.000000e+03\n",
       "mean     3.061476e+06\n",
       "std      5.295038e+05\n",
       "min      1.347874e+06\n",
       "25%      2.705320e+06\n",
       "50%      3.051167e+06\n",
       "75%      3.418932e+06\n",
       "max      4.720364e+06\n",
       "Name: Beneficio Económico (USD), dtype: float64"
      ]
     },
     "execution_count": 41,
     "metadata": {},
     "output_type": "execute_result"
    }
   ],
   "source": [
    "df['Beneficio Económico (USD)'].describe()"
   ]
  }
 ],
 "metadata": {
  "kernelspec": {
   "display_name": "Python 3 (ipykernel)",
   "language": "python",
   "name": "python3"
  },
  "language_info": {
   "codemirror_mode": {
    "name": "ipython",
    "version": 3
   },
   "file_extension": ".py",
   "mimetype": "text/x-python",
   "name": "python",
   "nbconvert_exporter": "python",
   "pygments_lexer": "ipython3",
   "version": "3.11.9"
  }
 },
 "nbformat": 4,
 "nbformat_minor": 5
}
