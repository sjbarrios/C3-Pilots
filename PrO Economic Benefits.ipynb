{
 "cells": [
  {
   "cell_type": "markdown",
   "id": "6f4fddc0-2f38-4786-8b7e-a702d41bbec9",
   "metadata": {},
   "source": [
    "# Modelo Económico Piloto Industrial C3 AI\n",
    "\n",
    "## Objetivo\n",
    "\n",
    "Estimar el **beneficio económico** del piloto de Optimización de Procesos **(PrO)** de C3 AI, por medio del uso de KPI's de proceso que se impactan en el proceso de optimización.\n",
    "Este optimizador tiene alcance en los siguientes procesos industriales:\n",
    "- Extracción de Jugo\n",
    "- Clarificación de Jugo\n",
    "- Evaporación de Jugo\n",
    "- Centrífugas\n",
    "\n",
    "El objetivo del optimizador es recomendar los valores de variables de decisión en estos procesos que *maximicen la cantidad de azúcar recuperada*.\n",
    "\n",
    "Dado que **el objetivo del optimizador es reemplazar las decisiones operativas humanas**, al momento de adoptarlo se pierde la línea base que sirve para comparar. Por este motivo se seleccionó un proceso de **back-testing** para explicar (durante un período en el que el optimizador no operó) *qué hubiera ocurrido si las recomendaciones del optimizador se hubieran seguido*, y por lo tanto la línea base se convierte en el desempeño real del proceso en el pasado. Este es un ejercicio teórico que se vale de los modelos predictivos que se desarrollaron para las funciones objetivo del optimizador. \n",
    "\n",
    "***La diferencia entre la línea base y el escenario hipotético del optimizador sirve para estimar el beneficio debido al uso del optimizador.***"
   ]
  },
  {
   "cell_type": "code",
   "execution_count": 2,
   "id": "bc2d0652-897e-4367-8bec-7b4423a88dc3",
   "metadata": {},
   "outputs": [],
   "source": [
    "import numpy as np\n",
    "import pandas as pd\n",
    "import matplotlib.pyplot as plt"
   ]
  },
  {
   "cell_type": "markdown",
   "id": "9ae3245e-4257-4067-8e1b-b2101bf9c482",
   "metadata": {},
   "source": [
    "## Resultados Back-Testing"
   ]
  },
  {
   "cell_type": "code",
   "execution_count": 3,
   "id": "d31c0fec-a8a3-44c4-9757-52034f8f8a0a",
   "metadata": {},
   "outputs": [
    {
     "data": {
      "text/html": [
       "<div>\n",
       "<style scoped>\n",
       "    .dataframe tbody tr th:only-of-type {\n",
       "        vertical-align: middle;\n",
       "    }\n",
       "\n",
       "    .dataframe tbody tr th {\n",
       "        vertical-align: top;\n",
       "    }\n",
       "\n",
       "    .dataframe thead th {\n",
       "        text-align: right;\n",
       "    }\n",
       "</style>\n",
       "<table border=\"1\" class=\"dataframe\">\n",
       "  <thead>\n",
       "    <tr style=\"text-align: right;\">\n",
       "      <th></th>\n",
       "      <th>timestamp</th>\n",
       "      <th>Final_Yield_Benefit</th>\n",
       "    </tr>\n",
       "  </thead>\n",
       "  <tbody>\n",
       "    <tr>\n",
       "      <th>0</th>\n",
       "      <td>2023-12-08 04:00:00</td>\n",
       "      <td>0.819271</td>\n",
       "    </tr>\n",
       "    <tr>\n",
       "      <th>1</th>\n",
       "      <td>2023-12-11 16:00:00</td>\n",
       "      <td>0.790421</td>\n",
       "    </tr>\n",
       "    <tr>\n",
       "      <th>2</th>\n",
       "      <td>2023-12-14 08:00:00</td>\n",
       "      <td>0.984876</td>\n",
       "    </tr>\n",
       "    <tr>\n",
       "      <th>3</th>\n",
       "      <td>2023-12-16 04:00:00</td>\n",
       "      <td>0.829951</td>\n",
       "    </tr>\n",
       "    <tr>\n",
       "      <th>4</th>\n",
       "      <td>2023-12-17 12:00:00</td>\n",
       "      <td>0.940674</td>\n",
       "    </tr>\n",
       "  </tbody>\n",
       "</table>\n",
       "</div>"
      ],
      "text/plain": [
       "             timestamp  Final_Yield_Benefit\n",
       "0  2023-12-08 04:00:00             0.819271\n",
       "1  2023-12-11 16:00:00             0.790421\n",
       "2  2023-12-14 08:00:00             0.984876\n",
       "3  2023-12-16 04:00:00             0.829951\n",
       "4  2023-12-17 12:00:00             0.940674"
      ]
     },
     "execution_count": 3,
     "metadata": {},
     "output_type": "execute_result"
    }
   ],
   "source": [
    "# .csv de Resultados Back-Testing C3 AI PrO PSA\n",
    "backtesting_data = pd.read_csv(\"zafra_2024_final_yield_benefit.csv\")\n",
    "backtesting_data.head()"
   ]
  },
  {
   "cell_type": "markdown",
   "id": "89f6d454-86ba-485b-82cd-9af2666d5644",
   "metadata": {},
   "source": [
    "![title](timeseries.png)"
   ]
  },
  {
   "cell_type": "code",
   "execution_count": 4,
   "id": "d55dc078-027e-43bd-bf20-728eeddf0f84",
   "metadata": {},
   "outputs": [
    {
     "data": {
      "text/plain": [
       "count    327.000000\n",
       "mean       0.691402\n",
       "std        0.155234\n",
       "min        0.254976\n",
       "25%        0.576799\n",
       "50%        0.672735\n",
       "75%        0.810293\n",
       "max        1.097605\n",
       "Name: Final_Yield_Benefit, dtype: float64"
      ]
     },
     "execution_count": 4,
     "metadata": {},
     "output_type": "execute_result"
    }
   ],
   "source": [
    "backtesting_data[\"Final_Yield_Benefit\"].describe()"
   ]
  },
  {
   "cell_type": "code",
   "execution_count": 5,
   "id": "f23ed60c-6aaa-4749-9522-a789383c46a5",
   "metadata": {},
   "outputs": [],
   "source": [
    "mu, sigma = backtesting_data[\"Final_Yield_Benefit\"].mean(), backtesting_data[\"Final_Yield_Benefit\"].std() # media y desviación estándar de beneficios"
   ]
  },
  {
   "cell_type": "code",
   "execution_count": 6,
   "id": "6f71059a-9415-46a7-b21b-78dd74e9d3b8",
   "metadata": {},
   "outputs": [
    {
     "data": {
      "text/plain": [
       "array([[<Axes: title={'center': 'Final_Yield_Benefit'}>]], dtype=object)"
      ]
     },
     "execution_count": 6,
     "metadata": {},
     "output_type": "execute_result"
    },
    {
     "data": {
      "image/png": "[encoded data removed]",
      "text/plain": [
       "<Figure size 640x480 with 1 Axes>"
      ]
     },
     "metadata": {},
     "output_type": "display_data"
    }
   ],
   "source": [
    "backtesting_data.hist()"
   ]
  },
  {
   "cell_type": "markdown",
   "id": "5e2be8d1-31d4-4f4b-9eec-f83f5cad1709",
   "metadata": {},
   "source": [
    "## Estimación de Beneficios Promedios\n",
    "\n",
    "#### KPI's de Caña de Azúcar\n",
    "Se utilizan los siguientes KPI's de *Caña de Azúcar* entregada a PSA:\n",
    "- Rendimiento Core Sampler (kg azúcar / t caña).\n",
    "- Total de Caña Recibida en la Zafra (t caña).\n",
    "- Dias de Zafra (dia).\n",
    "- Beneficio Marginal por Tonelada de Azúcar que Margina (USD / t azúcar).\n",
    "- Contenido de Melaza por Tonelada de Caña (%).\n",
    "- Contenido de Melaza en Miel Final (%).\n",
    "\n",
    "#### KPI's de Alcohol\n",
    "Se utilizan los siguientes KPI's de *Producción del Alcohol* en BSA:\n",
    "- Rendimiento teórico de Alcohol (l alcohol / t azúcar fermentable).\n",
    "- Densidad del Alcohol (t alcohol / m3 alcohol).\n",
    "- Eficiencia Promedio de Destilerías (%).\n",
    "- Contenido Promedio de Azúcares Reductores en la Melaza (%).\n",
    "- Beneficio Marginal del Alcohol que Margina (USD / m3 alcohol).\n",
    "\n",
    "#### KPI's Piloto Industrial PSA\n",
    "Los siguientes KPI's son impactados por el *piloto de optimización PrO*:\n",
    "- Incremento en Rendimiento Industrial (%).\n",
    "- Decremento en Azúcares Fermentables en Melaza (%)."
   ]
  },
  {
   "cell_type": "markdown",
   "id": "3d80743c-5348-4cf8-b225-08136fd248e6",
   "metadata": {},
   "source": [
    "### Estimación de Beneficios por Azúcar Adicional\n",
    "\n",
    "Para estimar la cantidad de azúcar adicional se utiliza la siguiente ecuación:\n",
    "\n",
    "$AzucarIndustrial_{Adicional} = RendimientoIndustrial_{Adicional}/100 * Caña_{optimizacion}*RendimientoCore/100$\n",
    "\n",
    "Donde:\n",
    "\n",
    "- $RendimientoIndustrial_{Adicional}$ es el incremento en Rendimiento Industrial por el optimizador.\n",
    "\n",
    "- $ Caña_{optimizacion} = DiasEfectivosOptimizador * RatioMolienda$ es la estimación de caña que se estima procesar utilizando el optimizador.\n",
    "- $ RatioMolienda = TotalCaña / DiasZafra$ es el Ratio de Molienda promedio (t caña / dia).\n",
    "\n",
    "Finalmente para estimar el beneficio económico se utiliza la siguiente ecuación:\n",
    "\n",
    "- $Beneficio_{Azucar} = BeneficioMarginal_{Azucar} * AzucarIndustrial_{Adicional}$\n",
    "\n"
   ]
  },
  {
   "cell_type": "code",
   "execution_count": 7,
   "id": "ef5f408e-c1aa-4617-8bd2-b209bbe8f543",
   "metadata": {},
   "outputs": [
    {
     "name": "stdout",
     "output_type": "stream",
     "text": [
      "Azúcar Industrial Adicional (toneladas): 2315.85\n",
      "Beneficio Total Azúcar Adicional (USD): 1081641.04\n"
     ]
    }
   ],
   "source": [
    "# KPI's\n",
    "Rend_Ind_Ad = 0.691402\n",
    "Rend_Core = 128.58\n",
    "Dias_Opt = 100\n",
    "Dias_Zafra = 183\n",
    "Total_Caña = 4767135.73\n",
    "Ben_Marginal_Az = 467.06\n",
    "\n",
    "#Variables\n",
    "Ratio_Molienda = Total_Caña / Dias_Zafra\n",
    "Caña_opt = Dias_Opt * Ratio_Molienda\n",
    "\n",
    "# Beneficio\n",
    "Az_Ind_Ad = Rend_Ind_Ad / 100 * Caña_opt * Rend_Core / 1000\n",
    "Ben_Az_Ad = Ben_Marginal_Az * Az_Ind_Ad\n",
    "\n",
    "print(\"Azúcar Industrial Adicional (toneladas): %.2f\" % Az_Ind_Ad)\n",
    "print(\"Beneficio Total Azúcar Adicional (USD): %.2f\" % Ben_Az_Ad)"
   ]
  },
  {
   "cell_type": "markdown",
   "id": "34392fcf-d447-4bd0-9cb1-98f8761a2c84",
   "metadata": {},
   "source": [
    "### Estimación de Costos de Oportunidad en Alcohol\n",
    "\n",
    "Para estimar la cantidad de Alcohol impactada se utiliza las siguientes ecuaciones:\n",
    "\n",
    "$AFMelaza = (SacarosaMelaza + ARMelaza)/100$\n",
    "\n",
    "$RendIndAlcohol = AFMelaza*RendTeoricoAF*(EffDestilerias/100)/DensidadAlcohol$\n",
    "\n",
    "$RendIndAlcohol_{Optimizador} = AFMelaza_{optimizador}*RendTeoricoAF*EffDestilerias/100)/DensidadAlcohol$\n",
    "\n",
    "$AlcoholIndustrial_{Adicional} = Caña_{optimizacion}*(Melaza_{Caña}/100)*AFMelaza_{optimizador}*RendIndAlcohol_{Optimizador}/1000 - Caña_{optimizacion}*(Melaza_{Caña}/100)*AFMelaza*RendIndAlcohol/1000$\n",
    "\n",
    "\n",
    "Donde:\n",
    "\n",
    "- $AFMelaza$ es el contenido promedio de azúcares fermentables en la melaza (%).\n",
    "- $SacarosaMelaza$ es el contenido promedio de sacarosa en la melaza (%).\n",
    "- $ARMelaza$ es el contenido promedio de azúcares reductores en la melaza (%).\n",
    "- $RendIndAlcohol$ es el rendimiento industrial de alcohol (m3 alcohol / t melaza).\n",
    "- $RendIndAlcohol_{Optimizador}$ es el rendimiento industrial de alcohol usando el optimizador (m3 alcohol / t melaza).\n",
    "- $RendTeoricoAF$ es el rendimiento teórico de alcohol con azúcar fermentable (m3 alcohol/ t azúcar fermentable).\n",
    "- $EffDestilerias$ es la eficiencia promedio de las destilerías (%).\n",
    "- $DensidadAlcohol$ es la densidad del alcohol (t alcohol / m3 alcohol).\n",
    "- $AlcoholIndustrial_{Adicional}$ es el incremento en Rendimiento Industrial por el optimizador.\n",
    "- $Caña_{optimizacion} = DiasEfectivosOptimizador * RatioMolienda$ es la estimación de caña que se estima procesar utilizando el optimizador.\n",
    "- $Melaza_{Caña}$ es el contenido promedio de melaza en la caña (%).\n",
    "- $AFMelaza_{optimizador}$ es el contenido promedio esperado de azúcares fermentables en la melaza (%) al utilizar el optimizador.\n",
    "\n",
    "\n",
    "Finalmente para estimar el beneficio económico se utiliza la siguiente ecuación:\n",
    "\n",
    "- $Beneficio_{Alcohol} = BeneficioMarginal_{Alcohol} * AlcoholIndustrial_{Adicional}$\n",
    "\n",
    "\n",
    "### *Nota*\n",
    "El estado actual del optimizador no contempla el proceso de *cristalización*, por lo cual no se tienen impactos directos sobre la cantidad de sacarosa en la melaza. Por este motivo se usa un valor de cero en el decremento (incremento) de sacarosa en la melaza."
   ]
  },
  {
   "cell_type": "code",
   "execution_count": 8,
   "id": "0efde645-1391-4fe3-988c-ce14e8808e25",
   "metadata": {},
   "outputs": [
    {
     "name": "stdout",
     "output_type": "stream",
     "text": [
      "Alcohol Industrial Adicional (m3): 0.00\n",
      "Beneficio Total Alcohol Adicional (USD): 0.00\n"
     ]
    }
   ],
   "source": [
    "# KPI's\n",
    "Melaza_Caña = 4.608\n",
    "Sacarosa_Melaza = 32.24\n",
    "AR_Melaza = 8.84\n",
    "Eff_Destilerias = 86.46\n",
    "Rend_Teorico_AF = 0.511\n",
    "Densidad_Alcohol = 0.789\n",
    "Inc_Sacarosa_Melaza_Opt = 0\n",
    "Ben_Marginal_Al = 9.88\n",
    "\n",
    "# Variables\n",
    "AF_Melaza = Sacarosa_Melaza + AR_Melaza\n",
    "AF_Melaza_Opt = AF_Melaza + Inc_Sacarosa_Melaza_Opt\n",
    "Rend_Ind_Alcohol = (AF_Melaza / 100) * Rend_Teorico_AF * (Eff_Destilerias/100) / Densidad_Alcohol\n",
    "Rend_Ind_Alcohol_Opt = (AF_Melaza_Opt / 100) * Rend_Teorico_AF * (Eff_Destilerias/100) / Densidad_Alcohol\n",
    "\n",
    "\n",
    "# Beneficio\n",
    "Al_Ind_Ad = Caña_opt * Melaza_Caña/100 * AF_Melaza_Opt/100 * Rend_Ind_Alcohol_Opt - Caña_opt * Melaza_Caña/100 * AF_Melaza/100 * Rend_Ind_Alcohol\n",
    "Ben_Al_Ad = Ben_Marginal_Al * Al_Ind_Ad\n",
    "print(\"Alcohol Industrial Adicional (m3): %.2f\" % Al_Ind_Ad)\n",
    "print(\"Beneficio Total Alcohol Adicional (USD): %.2f\" % Ben_Al_Ad)"
   ]
  },
  {
   "cell_type": "markdown",
   "id": "b5427ad1-3700-438e-90e0-f7a216d3f138",
   "metadata": {},
   "source": [
    "### Beneficio Económico Total\n",
    "Se suman los beneficios por azúcar y alcohol.\n",
    "\n",
    "$Beneficio_{Total} = Beneficio_{Azucar} + Beneficio_{Alcohol}$"
   ]
  },
  {
   "cell_type": "code",
   "execution_count": 9,
   "id": "9eecca52-a5fb-402f-bd55-5b0da26f3c68",
   "metadata": {},
   "outputs": [
    {
     "name": "stdout",
     "output_type": "stream",
     "text": [
      "Beneficio Total (USD): 1081641.04\n"
     ]
    }
   ],
   "source": [
    "Ben_Total = Ben_Az_Ad + Ben_Al_Ad\n",
    "print(\"Beneficio Total (USD): %.2f\" % Ben_Total)"
   ]
  },
  {
   "cell_type": "markdown",
   "id": "8c39a45a-0ff3-4730-8f7f-ae1886523145",
   "metadata": {},
   "source": [
    "## Estimación de Beneficios Probabilísticos\n",
    "Se considera la naturaleza probabilística de los resultados del optimizador para simular la distribución resultante de los beneficios."
   ]
  },
  {
   "cell_type": "code",
   "execution_count": 10,
   "id": "ec818c5b-b424-4518-a453-2055d52b23c7",
   "metadata": {},
   "outputs": [],
   "source": [
    "# Función de Beneficio Económico con Parámetros Teóricos de Mejora por el Optimizador\n",
    "def beneficio_economico(incremento_rendimiento_azucar, incremento_sacarosa_melaza):\n",
    "\n",
    "    # Beneficio\n",
    "    Az_Ind_Ad = incremento_rendimiento_azucar / 100 * Caña_opt * Rend_Core / 1000\n",
    "    Ben_Az_Ad = Ben_Marginal_Az * Az_Ind_Ad\n",
    "\n",
    "    Al_Ind_Ad = Caña_opt * Melaza_Caña/100 * AF_Melaza_Opt/100 * Rend_Ind_Alcohol_Opt - Caña_opt * Melaza_Caña/100 * AF_Melaza/100 * Rend_Ind_Alcohol\n",
    "    Ben_Al_Ad = Ben_Marginal_Al * Al_Ind_Ad\n",
    "\n",
    "    Ben_Total = Ben_Az_Ad + Ben_Al_Ad\n",
    "\n",
    "    return Ben_Total\n",
    "    "
   ]
  },
  {
   "cell_type": "code",
   "execution_count": 11,
   "id": "db48f99a-d82c-4e92-8145-15ecb45e2bac",
   "metadata": {},
   "outputs": [
    {
     "data": {
      "text/plain": [
       "1081641.0361319408"
      ]
     },
     "execution_count": 11,
     "metadata": {},
     "output_type": "execute_result"
    }
   ],
   "source": [
    "beneficio_economico(0.691402,0)"
   ]
  },
  {
   "cell_type": "markdown",
   "id": "b53a02d9-40d5-4719-ad93-0dbf4ab35f9d",
   "metadata": {},
   "source": [
    "### Simulación\n",
    "Se realiza una simulación de Monte Carlo dada la naturaleza probabilística del beneficio del optimizador."
   ]
  },
  {
   "cell_type": "code",
   "execution_count": 12,
   "id": "cae9ff9b-e7a4-4b4d-94b8-ef94deb74b8d",
   "metadata": {},
   "outputs": [],
   "source": [
    "# muestreo\n",
    "n_simulations = 1000\n",
    "l_xs = []\n",
    "l_ys = []\n",
    "\n",
    "# simulaciones\n",
    "for _ in range(n_simulations):\n",
    "    \n",
    "    # rend_azucar se muestrea aleatoriamente con una distribución normal con media mu y desviación estándar sigma\n",
    "    x = np.random.normal(mu, sigma)\n",
    "    l_xs.append(x)\n",
    "    \n",
    "    # rend_alcohol se muestrea aleatoriamente con una distribución uniforme entre 0 y 0 (no se usa en el estado actual del optimizador)\n",
    "    y = np.random.uniform(0, 0)\n",
    "    l_ys.append(y)"
   ]
  },
  {
   "cell_type": "code",
   "execution_count": 13,
   "id": "5764f69d-45e7-402a-95b7-bfb7245d9e41",
   "metadata": {},
   "outputs": [],
   "source": [
    "# evaluación\n",
    "l_bs = []\n",
    "for i in range(n_simulations):\n",
    "    \n",
    "    # beneficios económicos de la muestra\n",
    "    beneficios = beneficio_economico(l_xs[i],l_ys[i])\n",
    "    l_bs.append(beneficios)"
   ]
  },
  {
   "cell_type": "code",
   "execution_count": 14,
   "id": "5784d5ec-bced-4d9d-9c05-e4f66467fbfc",
   "metadata": {},
   "outputs": [
    {
     "data": {
      "text/html": [
       "<div>\n",
       "<style scoped>\n",
       "    .dataframe tbody tr th:only-of-type {\n",
       "        vertical-align: middle;\n",
       "    }\n",
       "\n",
       "    .dataframe tbody tr th {\n",
       "        vertical-align: top;\n",
       "    }\n",
       "\n",
       "    .dataframe thead th {\n",
       "        text-align: right;\n",
       "    }\n",
       "</style>\n",
       "<table border=\"1\" class=\"dataframe\">\n",
       "  <thead>\n",
       "    <tr style=\"text-align: right;\">\n",
       "      <th></th>\n",
       "      <th>Incremento Recuperación Azúcar (%)</th>\n",
       "      <th>Incremento Sacarosa en Melaza (%)</th>\n",
       "      <th>Beneficio Económico (USD)</th>\n",
       "    </tr>\n",
       "  </thead>\n",
       "  <tbody>\n",
       "    <tr>\n",
       "      <th>0</th>\n",
       "      <td>0.650689</td>\n",
       "      <td>0.0</td>\n",
       "      <td>1.017949e+06</td>\n",
       "    </tr>\n",
       "    <tr>\n",
       "      <th>1</th>\n",
       "      <td>0.951387</td>\n",
       "      <td>0.0</td>\n",
       "      <td>1.488366e+06</td>\n",
       "    </tr>\n",
       "    <tr>\n",
       "      <th>2</th>\n",
       "      <td>0.739727</td>\n",
       "      <td>0.0</td>\n",
       "      <td>1.157242e+06</td>\n",
       "    </tr>\n",
       "    <tr>\n",
       "      <th>3</th>\n",
       "      <td>0.498487</td>\n",
       "      <td>0.0</td>\n",
       "      <td>7.798411e+05</td>\n",
       "    </tr>\n",
       "    <tr>\n",
       "      <th>4</th>\n",
       "      <td>0.856180</td>\n",
       "      <td>0.0</td>\n",
       "      <td>1.339423e+06</td>\n",
       "    </tr>\n",
       "    <tr>\n",
       "      <th>...</th>\n",
       "      <td>...</td>\n",
       "      <td>...</td>\n",
       "      <td>...</td>\n",
       "    </tr>\n",
       "    <tr>\n",
       "      <th>995</th>\n",
       "      <td>0.758306</td>\n",
       "      <td>0.0</td>\n",
       "      <td>1.186307e+06</td>\n",
       "    </tr>\n",
       "    <tr>\n",
       "      <th>996</th>\n",
       "      <td>0.737782</td>\n",
       "      <td>0.0</td>\n",
       "      <td>1.154199e+06</td>\n",
       "    </tr>\n",
       "    <tr>\n",
       "      <th>997</th>\n",
       "      <td>0.924573</td>\n",
       "      <td>0.0</td>\n",
       "      <td>1.446418e+06</td>\n",
       "    </tr>\n",
       "    <tr>\n",
       "      <th>998</th>\n",
       "      <td>0.751673</td>\n",
       "      <td>0.0</td>\n",
       "      <td>1.175930e+06</td>\n",
       "    </tr>\n",
       "    <tr>\n",
       "      <th>999</th>\n",
       "      <td>0.477603</td>\n",
       "      <td>0.0</td>\n",
       "      <td>7.471697e+05</td>\n",
       "    </tr>\n",
       "  </tbody>\n",
       "</table>\n",
       "<p>1000 rows × 3 columns</p>\n",
       "</div>"
      ],
      "text/plain": [
       "     Incremento Recuperación Azúcar (%)  Incremento Sacarosa en Melaza (%)  \\\n",
       "0                              0.650689                                0.0   \n",
       "1                              0.951387                                0.0   \n",
       "2                              0.739727                                0.0   \n",
       "3                              0.498487                                0.0   \n",
       "4                              0.856180                                0.0   \n",
       "..                                  ...                                ...   \n",
       "995                            0.758306                                0.0   \n",
       "996                            0.737782                                0.0   \n",
       "997                            0.924573                                0.0   \n",
       "998                            0.751673                                0.0   \n",
       "999                            0.477603                                0.0   \n",
       "\n",
       "     Beneficio Económico (USD)  \n",
       "0                 1.017949e+06  \n",
       "1                 1.488366e+06  \n",
       "2                 1.157242e+06  \n",
       "3                 7.798411e+05  \n",
       "4                 1.339423e+06  \n",
       "..                         ...  \n",
       "995               1.186307e+06  \n",
       "996               1.154199e+06  \n",
       "997               1.446418e+06  \n",
       "998               1.175930e+06  \n",
       "999               7.471697e+05  \n",
       "\n",
       "[1000 rows x 3 columns]"
      ]
     },
     "execution_count": 14,
     "metadata": {},
     "output_type": "execute_result"
    }
   ],
   "source": [
    "# Dataframe de Simulaciones\n",
    "\n",
    "# listas de simulación\n",
    "inc_rend_azucar = l_xs\n",
    "inc_sacarosa_melaza = l_ys\n",
    "beneficio = l_bs\n",
    " \n",
    "# diccionario de listas\n",
    "dict = {'Incremento Recuperación Azúcar (%)': inc_rend_azucar, 'Incremento Sacarosa en Melaza (%)': inc_sacarosa_melaza, 'Beneficio Económico (USD)': beneficio} \n",
    "\n",
    "# dataframe final\n",
    "df = pd.DataFrame(dict)\n",
    "df"
   ]
  },
  {
   "cell_type": "code",
   "execution_count": 15,
   "id": "08bf7dc3-fd71-4435-a83f-2644d0873d42",
   "metadata": {},
   "outputs": [
    {
     "data": {
      "text/plain": [
       "array([[<Axes: title={'center': 'Incremento Recuperación Azúcar (%)'}>,\n",
       "        <Axes: title={'center': 'Incremento Sacarosa en Melaza (%)'}>],\n",
       "       [<Axes: title={'center': 'Beneficio Económico (USD)'}>, <Axes: >]],\n",
       "      dtype=object)"
      ]
     },
     "execution_count": 15,
     "metadata": {},
     "output_type": "execute_result"
    },
    {
     "data": {
      "image/png": "[encoded data removed]",
      "text/plain": [
       "<Figure size 1500x1000 with 4 Axes>"
      ]
     },
     "metadata": {},
     "output_type": "display_data"
    }
   ],
   "source": [
    "df.hist(figsize=(15,10))"
   ]
  },
  {
   "cell_type": "code",
   "execution_count": 16,
   "id": "f66dc01d-4c57-4d4d-b0b0-1202ba59fd98",
   "metadata": {},
   "outputs": [
    {
     "data": {
      "text/plain": [
       "count    1.000000e+03\n",
       "mean     1.088786e+06\n",
       "std      2.433010e+05\n",
       "min      3.642094e+05\n",
       "25%      9.288028e+05\n",
       "50%      1.078753e+06\n",
       "75%      1.242289e+06\n",
       "max      1.934199e+06\n",
       "Name: Beneficio Económico (USD), dtype: float64"
      ]
     },
     "execution_count": 16,
     "metadata": {},
     "output_type": "execute_result"
    }
   ],
   "source": [
    "df['Beneficio Económico (USD)'].describe()"
   ]
  }
 ],
 "metadata": {
  "kernelspec": {
   "display_name": "Python 3 (ipykernel)",
   "language": "python",
   "name": "python3"
  },
  "language_info": {
   "codemirror_mode": {
    "name": "ipython",
    "version": 3
   },
   "file_extension": ".py",
   "mimetype": "text/x-python",
   "name": "python",
   "nbconvert_exporter": "python",
   "pygments_lexer": "ipython3",
   "version": "3.11.9"
  }
 },
 "nbformat": 4,
 "nbformat_minor": 5
}
